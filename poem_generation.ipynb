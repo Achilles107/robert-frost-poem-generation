{
  "nbformat": 4,
  "nbformat_minor": 0,
  "metadata": {
    "colab": {
      "provenance": [],
      "gpuType": "T4"
    },
    "kernelspec": {
      "name": "python3",
      "display_name": "Python 3"
    },
    "language_info": {
      "name": "python"
    },
    "accelerator": "GPU"
  },
  "cells": [
    {
      "cell_type": "code",
      "execution_count": null,
      "metadata": {
        "id": "jYvWKgI9-hpd"
      },
      "outputs": [],
      "source": [
        "from google.colab import drive\n",
        "import pandas as pd\n",
        "from tensorflow.keras.preprocessing.text import Tokenizer\n",
        "from tensorflow.keras.utils import pad_sequences\n",
        "import numpy as np\n",
        "from tensorflow.keras.utils import to_categorical\n",
        "from tensorflow.keras.layers import LSTM, Bidirectional, Dense, Softmax, Embedding, Layer, Attention, TimeDistributed\n",
        "from tensorflow.keras import Sequential\n",
        "from tensorflow.keras.optimizers import Adam"
      ]
    },
    {
      "cell_type": "code",
      "source": [
        "drive.mount('/content/drive')"
      ],
      "metadata": {
        "colab": {
          "base_uri": "https://localhost:8080/"
        },
        "id": "nO7GArLC_9sy",
        "outputId": "ce75c241-04a1-48f2-d072-7fc7c7bfae12"
      },
      "execution_count": null,
      "outputs": [
        {
          "output_type": "stream",
          "name": "stdout",
          "text": [
            "Mounted at /content/drive\n"
          ]
        }
      ]
    },
    {
      "cell_type": "code",
      "source": [
        "! unzip -qq '/content/drive/MyDrive/data/poems/poetry.zip'"
      ],
      "metadata": {
        "id": "BkAaVkQWAP7a"
      },
      "execution_count": null,
      "outputs": []
    },
    {
      "cell_type": "code",
      "source": [
        "%%time\n",
        "poem_data = pd.read_csv('robert_frost_collection.csv')\n",
        "poem_data.dropna(inplace=True)\n",
        "#poem_data.reset_index(True, inplace=True)"
      ],
      "metadata": {
        "colab": {
          "base_uri": "https://localhost:8080/"
        },
        "id": "nb1a2971Adpk",
        "outputId": "80279a81-b6fd-4c45-9303-bbfda11d67ad"
      },
      "execution_count": null,
      "outputs": [
        {
          "output_type": "stream",
          "name": "stdout",
          "text": [
            "CPU times: user 7.73 ms, sys: 4.34 ms, total: 12.1 ms\n",
            "Wall time: 20.4 ms\n"
          ]
        }
      ]
    },
    {
      "cell_type": "code",
      "source": [
        "poem_data.head(10)"
      ],
      "metadata": {
        "colab": {
          "base_uri": "https://localhost:8080/",
          "height": 528
        },
        "id": "0mE5bpwKAlx3",
        "outputId": "a8b08e0f-cdaa-42f1-8748-1358491431f6"
      },
      "execution_count": null,
      "outputs": [
        {
          "output_type": "execute_result",
          "data": {
            "text/plain": [
              "                                         Name   \\\n",
              "1         Stopping by Woods on a Snowy Evening   \n",
              "2                                 Fire and Ice   \n",
              "3                             The Aim was Song   \n",
              "4   The Need of Being Versed in Country Things   \n",
              "5                        I Will Sing You One O   \n",
              "6                    For Once, Then, Something   \n",
              "7                                    The Onset   \n",
              "8                        Nothing Gold Can Stay   \n",
              "9                            Tree at my Window   \n",
              "10                   Acquainted with the Night   \n",
              "\n",
              "                                              Content         Collection  \\\n",
              "1   Whose woods these are I think I know.   \\nHis ...      New Hampshire   \n",
              "2   Some say the world will end in fire,\\nSome say...      New Hampshire   \n",
              "3   Before man came to blow it right\\nThe wind onc...      New Hampshire   \n",
              "4   The house had gone to bring again\\nTo the midn...      New Hampshire   \n",
              "5   It was long I lay\\nAwake that night\\nWishing t...      New Hampshire   \n",
              "6   Others taunt me with having knelt at well-curb...      New Hampshire   \n",
              "7   Always the same, when on a fated night\\nAt las...      New Hampshire   \n",
              "8   Nature’s first green is gold,\\nHer hardest hue...      New Hampshire   \n",
              "9   Tree at my window, window tree,\\nMy sash is lo...  West-Running Book   \n",
              "10  I have been one acquainted with the night.\\nI ...  West-Running Book   \n",
              "\n",
              "    Year of Publication  \n",
              "1                1923.0  \n",
              "2                1923.0  \n",
              "3                1923.0  \n",
              "4                1923.0  \n",
              "5                1923.0  \n",
              "6                1923.0  \n",
              "7                1923.0  \n",
              "8                1923.0  \n",
              "9                1928.0  \n",
              "10               1928.0  "
            ],
            "text/html": [
              "\n",
              "  <div id=\"df-3f2f20b0-8420-4b6f-a2d4-336395ed3af5\">\n",
              "    <div class=\"colab-df-container\">\n",
              "      <div>\n",
              "<style scoped>\n",
              "    .dataframe tbody tr th:only-of-type {\n",
              "        vertical-align: middle;\n",
              "    }\n",
              "\n",
              "    .dataframe tbody tr th {\n",
              "        vertical-align: top;\n",
              "    }\n",
              "\n",
              "    .dataframe thead th {\n",
              "        text-align: right;\n",
              "    }\n",
              "</style>\n",
              "<table border=\"1\" class=\"dataframe\">\n",
              "  <thead>\n",
              "    <tr style=\"text-align: right;\">\n",
              "      <th></th>\n",
              "      <th>Name</th>\n",
              "      <th>Content</th>\n",
              "      <th>Collection</th>\n",
              "      <th>Year of Publication</th>\n",
              "    </tr>\n",
              "  </thead>\n",
              "  <tbody>\n",
              "    <tr>\n",
              "      <th>1</th>\n",
              "      <td>Stopping by Woods on a Snowy Evening</td>\n",
              "      <td>Whose woods these are I think I know.   \\nHis ...</td>\n",
              "      <td>New Hampshire</td>\n",
              "      <td>1923.0</td>\n",
              "    </tr>\n",
              "    <tr>\n",
              "      <th>2</th>\n",
              "      <td>Fire and Ice</td>\n",
              "      <td>Some say the world will end in fire,\\nSome say...</td>\n",
              "      <td>New Hampshire</td>\n",
              "      <td>1923.0</td>\n",
              "    </tr>\n",
              "    <tr>\n",
              "      <th>3</th>\n",
              "      <td>The Aim was Song</td>\n",
              "      <td>Before man came to blow it right\\nThe wind onc...</td>\n",
              "      <td>New Hampshire</td>\n",
              "      <td>1923.0</td>\n",
              "    </tr>\n",
              "    <tr>\n",
              "      <th>4</th>\n",
              "      <td>The Need of Being Versed in Country Things</td>\n",
              "      <td>The house had gone to bring again\\nTo the midn...</td>\n",
              "      <td>New Hampshire</td>\n",
              "      <td>1923.0</td>\n",
              "    </tr>\n",
              "    <tr>\n",
              "      <th>5</th>\n",
              "      <td>I Will Sing You One O</td>\n",
              "      <td>It was long I lay\\nAwake that night\\nWishing t...</td>\n",
              "      <td>New Hampshire</td>\n",
              "      <td>1923.0</td>\n",
              "    </tr>\n",
              "    <tr>\n",
              "      <th>6</th>\n",
              "      <td>For Once, Then, Something</td>\n",
              "      <td>Others taunt me with having knelt at well-curb...</td>\n",
              "      <td>New Hampshire</td>\n",
              "      <td>1923.0</td>\n",
              "    </tr>\n",
              "    <tr>\n",
              "      <th>7</th>\n",
              "      <td>The Onset</td>\n",
              "      <td>Always the same, when on a fated night\\nAt las...</td>\n",
              "      <td>New Hampshire</td>\n",
              "      <td>1923.0</td>\n",
              "    </tr>\n",
              "    <tr>\n",
              "      <th>8</th>\n",
              "      <td>Nothing Gold Can Stay</td>\n",
              "      <td>Nature’s first green is gold,\\nHer hardest hue...</td>\n",
              "      <td>New Hampshire</td>\n",
              "      <td>1923.0</td>\n",
              "    </tr>\n",
              "    <tr>\n",
              "      <th>9</th>\n",
              "      <td>Tree at my Window</td>\n",
              "      <td>Tree at my window, window tree,\\nMy sash is lo...</td>\n",
              "      <td>West-Running Book</td>\n",
              "      <td>1928.0</td>\n",
              "    </tr>\n",
              "    <tr>\n",
              "      <th>10</th>\n",
              "      <td>Acquainted with the Night</td>\n",
              "      <td>I have been one acquainted with the night.\\nI ...</td>\n",
              "      <td>West-Running Book</td>\n",
              "      <td>1928.0</td>\n",
              "    </tr>\n",
              "  </tbody>\n",
              "</table>\n",
              "</div>\n",
              "      <button class=\"colab-df-convert\" onclick=\"convertToInteractive('df-3f2f20b0-8420-4b6f-a2d4-336395ed3af5')\"\n",
              "              title=\"Convert this dataframe to an interactive table.\"\n",
              "              style=\"display:none;\">\n",
              "        \n",
              "  <svg xmlns=\"http://www.w3.org/2000/svg\" height=\"24px\"viewBox=\"0 0 24 24\"\n",
              "       width=\"24px\">\n",
              "    <path d=\"M0 0h24v24H0V0z\" fill=\"none\"/>\n",
              "    <path d=\"M18.56 5.44l.94 2.06.94-2.06 2.06-.94-2.06-.94-.94-2.06-.94 2.06-2.06.94zm-11 1L8.5 8.5l.94-2.06 2.06-.94-2.06-.94L8.5 2.5l-.94 2.06-2.06.94zm10 10l.94 2.06.94-2.06 2.06-.94-2.06-.94-.94-2.06-.94 2.06-2.06.94z\"/><path d=\"M17.41 7.96l-1.37-1.37c-.4-.4-.92-.59-1.43-.59-.52 0-1.04.2-1.43.59L10.3 9.45l-7.72 7.72c-.78.78-.78 2.05 0 2.83L4 21.41c.39.39.9.59 1.41.59.51 0 1.02-.2 1.41-.59l7.78-7.78 2.81-2.81c.8-.78.8-2.07 0-2.86zM5.41 20L4 18.59l7.72-7.72 1.47 1.35L5.41 20z\"/>\n",
              "  </svg>\n",
              "      </button>\n",
              "      \n",
              "  <style>\n",
              "    .colab-df-container {\n",
              "      display:flex;\n",
              "      flex-wrap:wrap;\n",
              "      gap: 12px;\n",
              "    }\n",
              "\n",
              "    .colab-df-convert {\n",
              "      background-color: #E8F0FE;\n",
              "      border: none;\n",
              "      border-radius: 50%;\n",
              "      cursor: pointer;\n",
              "      display: none;\n",
              "      fill: #1967D2;\n",
              "      height: 32px;\n",
              "      padding: 0 0 0 0;\n",
              "      width: 32px;\n",
              "    }\n",
              "\n",
              "    .colab-df-convert:hover {\n",
              "      background-color: #E2EBFA;\n",
              "      box-shadow: 0px 1px 2px rgba(60, 64, 67, 0.3), 0px 1px 3px 1px rgba(60, 64, 67, 0.15);\n",
              "      fill: #174EA6;\n",
              "    }\n",
              "\n",
              "    [theme=dark] .colab-df-convert {\n",
              "      background-color: #3B4455;\n",
              "      fill: #D2E3FC;\n",
              "    }\n",
              "\n",
              "    [theme=dark] .colab-df-convert:hover {\n",
              "      background-color: #434B5C;\n",
              "      box-shadow: 0px 1px 3px 1px rgba(0, 0, 0, 0.15);\n",
              "      filter: drop-shadow(0px 1px 2px rgba(0, 0, 0, 0.3));\n",
              "      fill: #FFFFFF;\n",
              "    }\n",
              "  </style>\n",
              "\n",
              "      <script>\n",
              "        const buttonEl =\n",
              "          document.querySelector('#df-3f2f20b0-8420-4b6f-a2d4-336395ed3af5 button.colab-df-convert');\n",
              "        buttonEl.style.display =\n",
              "          google.colab.kernel.accessAllowed ? 'block' : 'none';\n",
              "\n",
              "        async function convertToInteractive(key) {\n",
              "          const element = document.querySelector('#df-3f2f20b0-8420-4b6f-a2d4-336395ed3af5');\n",
              "          const dataTable =\n",
              "            await google.colab.kernel.invokeFunction('convertToInteractive',\n",
              "                                                     [key], {});\n",
              "          if (!dataTable) return;\n",
              "\n",
              "          const docLinkHtml = 'Like what you see? Visit the ' +\n",
              "            '<a target=\"_blank\" href=https://colab.research.google.com/notebooks/data_table.ipynb>data table notebook</a>'\n",
              "            + ' to learn more about interactive tables.';\n",
              "          element.innerHTML = '';\n",
              "          dataTable['output_type'] = 'display_data';\n",
              "          await google.colab.output.renderOutput(dataTable, element);\n",
              "          const docLink = document.createElement('div');\n",
              "          docLink.innerHTML = docLinkHtml;\n",
              "          element.appendChild(docLink);\n",
              "        }\n",
              "      </script>\n",
              "    </div>\n",
              "  </div>\n",
              "  "
            ]
          },
          "metadata": {},
          "execution_count": 5
        }
      ]
    },
    {
      "cell_type": "code",
      "source": [
        "data = poem_data['Content']"
      ],
      "metadata": {
        "id": "Lwob130MAsg8"
      },
      "execution_count": null,
      "outputs": []
    },
    {
      "cell_type": "code",
      "source": [
        "corpus_poem = []\n",
        "text = list(data)\n",
        "for item in text:\n",
        "  temp = item.split('\\n')\n",
        "  for i in temp:\n",
        "    corpus_poem.append(i.lower().strip())"
      ],
      "metadata": {
        "id": "flCAwCKwBSuF"
      },
      "execution_count": null,
      "outputs": []
    },
    {
      "cell_type": "code",
      "source": [
        "corpus_sentences = [sentence.strip() + '\\n' for sentence in corpus_poem]"
      ],
      "metadata": {
        "id": "7IQXfEQQrBSq"
      },
      "execution_count": null,
      "outputs": []
    },
    {
      "cell_type": "code",
      "source": [
        "corpus_sentences[:9]"
      ],
      "metadata": {
        "colab": {
          "base_uri": "https://localhost:8080/"
        },
        "id": "6FRmNcSJBfBM",
        "outputId": "1db7a6a2-bc73-4a0c-9941-c698aeae23ba"
      },
      "execution_count": null,
      "outputs": [
        {
          "output_type": "execute_result",
          "data": {
            "text/plain": [
              "['whose woods these are i think i know.\\n',\n",
              " 'his house is in the village though;\\n',\n",
              " 'he will not see me stopping here\\n',\n",
              " 'to watch his woods fill up with snow.\\n',\n",
              " 'my little horse must think it queer\\n',\n",
              " 'to stop without a farmhouse near\\n',\n",
              " 'between the woods and frozen lake\\n',\n",
              " 'the darkest evening of the year.\\n',\n",
              " 'he gives his harness bells a shake\\n']"
            ]
          },
          "metadata": {},
          "execution_count": 11
        }
      ]
    },
    {
      "cell_type": "markdown",
      "source": [
        "### Tokenization"
      ],
      "metadata": {
        "id": "rDYaZm7NF4cR"
      }
    },
    {
      "cell_type": "code",
      "source": [
        "%%time\n",
        "tokenizer = Tokenizer()\n",
        "tokenizer.fit_on_texts(corpus_poem)\n",
        "vocab_size = len(tokenizer.word_index) + 1\n",
        "print(vocab_size)"
      ],
      "metadata": {
        "colab": {
          "base_uri": "https://localhost:8080/"
        },
        "id": "NQH5y02KBsTM",
        "outputId": "2cc2cda1-d379-4c73-f5b9-bd4b1a90003f"
      },
      "execution_count": null,
      "outputs": [
        {
          "output_type": "stream",
          "name": "stdout",
          "text": [
            "5604\n",
            "CPU times: user 74.8 ms, sys: 1.2 ms, total: 76 ms\n",
            "Wall time: 78 ms\n"
          ]
        }
      ]
    },
    {
      "cell_type": "code",
      "source": [
        "%%time\n",
        "sequences = []\n",
        "for line in corpus_poem:\n",
        "  token_list = tokenizer.texts_to_sequences([line])[0]\n",
        "  for i in range(1, len(token_list)):\n",
        "    n_gram_seq = token_list[:i+1]\n",
        "    sequences.append(n_gram_seq)"
      ],
      "metadata": {
        "colab": {
          "base_uri": "https://localhost:8080/"
        },
        "id": "APC7RtZmGB0q",
        "outputId": "1cb8880d-3a70-4aba-de02-b8d0e938918d"
      },
      "execution_count": null,
      "outputs": [
        {
          "output_type": "stream",
          "name": "stdout",
          "text": [
            "CPU times: user 64.7 ms, sys: 1.31 ms, total: 66 ms\n",
            "Wall time: 67.3 ms\n"
          ]
        }
      ]
    },
    {
      "cell_type": "code",
      "source": [
        "sequences[1:4]"
      ],
      "metadata": {
        "colab": {
          "base_uri": "https://localhost:8080/"
        },
        "id": "4S58iszkHWjk",
        "outputId": "645739aa-da2b-47b3-9d73-5a57680e66e7"
      },
      "execution_count": null,
      "outputs": [
        {
          "output_type": "execute_result",
          "data": {
            "text/plain": [
              "[[286, 257, 234], [286, 257, 234, 54], [286, 257, 234, 54, 4]]"
            ]
          },
          "metadata": {},
          "execution_count": 14
        }
      ]
    },
    {
      "cell_type": "markdown",
      "source": [
        "#### Padding"
      ],
      "metadata": {
        "id": "A5yGZQ7rH_Y8"
      }
    },
    {
      "cell_type": "code",
      "source": [
        "%%time\n",
        "max_len = max([len(line) for line in sequences])\n",
        "sequences = np.array(pad_sequences(sequences, maxlen=max_len, padding='pre'))\n",
        "sequences[1:4]"
      ],
      "metadata": {
        "colab": {
          "base_uri": "https://localhost:8080/"
        },
        "id": "EH1vCxmjHbBB",
        "outputId": "b95fbb36-c1f9-46e4-ca8e-21d10953995b"
      },
      "execution_count": null,
      "outputs": [
        {
          "output_type": "stream",
          "name": "stdout",
          "text": [
            "CPU times: user 72.9 ms, sys: 2.45 ms, total: 75.4 ms\n",
            "Wall time: 75.3 ms\n"
          ]
        },
        {
          "output_type": "execute_result",
          "data": {
            "text/plain": [
              "array([[  0,   0,   0,   0,   0,   0,   0,   0,   0,   0,   0,   0,   0,\n",
              "          0,   0,   0,   0, 286, 257, 234],\n",
              "       [  0,   0,   0,   0,   0,   0,   0,   0,   0,   0,   0,   0,   0,\n",
              "          0,   0,   0, 286, 257, 234,  54],\n",
              "       [  0,   0,   0,   0,   0,   0,   0,   0,   0,   0,   0,   0,   0,\n",
              "          0,   0, 286, 257, 234,  54,   4]], dtype=int32)"
            ]
          },
          "metadata": {},
          "execution_count": 15
        }
      ]
    },
    {
      "cell_type": "markdown",
      "source": [
        "### Feature extraction"
      ],
      "metadata": {
        "id": "fmxrPFoAIkQB"
      }
    },
    {
      "cell_type": "code",
      "source": [
        "features = sequences[:, :-1]\n",
        "labels = sequences[:, -1]\n",
        "labels = to_categorical(labels, vocab_size)"
      ],
      "metadata": {
        "id": "1_4EfViZIZUd"
      },
      "execution_count": null,
      "outputs": []
    },
    {
      "cell_type": "code",
      "source": [
        "print(features[2])\n",
        "print(labels[2])"
      ],
      "metadata": {
        "colab": {
          "base_uri": "https://localhost:8080/"
        },
        "id": "cBrCC9dAIvp8",
        "outputId": "5ad66ee9-e66e-4a8a-b341-630ed977a62d"
      },
      "execution_count": null,
      "outputs": [
        {
          "output_type": "stream",
          "name": "stdout",
          "text": [
            "[  0   0   0   0   0   0   0   0   0   0   0   0   0   0   0   0 286 257\n",
            " 234]\n",
            "[0. 0. 0. ... 0. 0. 0.]\n"
          ]
        }
      ]
    },
    {
      "cell_type": "markdown",
      "source": [
        "### Model"
      ],
      "metadata": {
        "id": "63ifqB4vNCjH"
      }
    },
    {
      "cell_type": "code",
      "source": [
        "model = Sequential()\n",
        "model.add(Embedding(vocab_size, 256, input_length=max_len-1))\n",
        "model.add(LSTM(128, return_sequences=True))\n",
        "# Attention layer\n",
        "model.add(Attention())\n",
        "model.add(Dense(vocab_size, activation='softmax'))\n",
        "model.summary()"
      ],
      "metadata": {
        "colab": {
          "base_uri": "https://localhost:8080/"
        },
        "id": "X8J-CBpRIzXA",
        "outputId": "a3aeaaed-ae8a-45fd-d232-6f5e89d325f0"
      },
      "execution_count": null,
      "outputs": [
        {
          "output_type": "stream",
          "name": "stdout",
          "text": [
            "Model: \"sequential_15\"\n",
            "_________________________________________________________________\n",
            " Layer (type)                Output Shape              Param #   \n",
            "=================================================================\n",
            " embedding_15 (Embedding)    (None, 19, 256)           1434624   \n",
            "                                                                 \n",
            " lstm_15 (LSTM)              (None, 19, 128)           197120    \n",
            "                                                                 \n",
            " attention_8 (Attention)     (None, 128)               128       \n",
            "                                                                 \n",
            " dense_3 (Dense)             (None, 5604)              722916    \n",
            "                                                                 \n",
            "=================================================================\n",
            "Total params: 2,354,788\n",
            "Trainable params: 2,354,788\n",
            "Non-trainable params: 0\n",
            "_________________________________________________________________\n"
          ]
        }
      ]
    },
    {
      "cell_type": "code",
      "source": [
        "optimizer = Adam(lr=0.01)\n",
        "model.compile(loss='categorical_crossentropy', optimizer=optimizer, metrics=['accuracy'])\n",
        "\n",
        "history = model.fit(features, labels, epochs=100, verbose=True)"
      ],
      "metadata": {
        "colab": {
          "base_uri": "https://localhost:8080/"
        },
        "id": "IQPQhU3hXURs",
        "outputId": "38d8f9ac-b678-451c-b364-3ffe01ea4628"
      },
      "execution_count": null,
      "outputs": [
        {
          "output_type": "stream",
          "name": "stderr",
          "text": [
            "WARNING:absl:`lr` is deprecated in Keras optimizer, please use `learning_rate` or use the legacy optimizer, e.g.,tf.keras.optimizers.legacy.Adam.\n"
          ]
        },
        {
          "output_type": "stream",
          "name": "stdout",
          "text": [
            "Epoch 1/100\n",
            "1168/1168 [==============================] - 20s 15ms/step - loss: 6.8731 - accuracy: 0.0508\n",
            "Epoch 2/100\n",
            "1168/1168 [==============================] - 8s 7ms/step - loss: 6.4518 - accuracy: 0.0546\n",
            "Epoch 3/100\n",
            "1168/1168 [==============================] - 8s 7ms/step - loss: 6.2304 - accuracy: 0.0637\n",
            "Epoch 4/100\n",
            "1168/1168 [==============================] - 8s 7ms/step - loss: 5.9487 - accuracy: 0.0771\n",
            "Epoch 5/100\n",
            "1168/1168 [==============================] - 8s 7ms/step - loss: 5.6317 - accuracy: 0.0956\n",
            "Epoch 6/100\n",
            "1168/1168 [==============================] - 8s 7ms/step - loss: 5.3370 - accuracy: 0.1112\n",
            "Epoch 7/100\n",
            "1168/1168 [==============================] - 7s 6ms/step - loss: 5.0538 - accuracy: 0.1298\n",
            "Epoch 8/100\n",
            "1168/1168 [==============================] - 8s 7ms/step - loss: 4.7701 - accuracy: 0.1488\n",
            "Epoch 9/100\n",
            "1168/1168 [==============================] - 8s 7ms/step - loss: 4.4869 - accuracy: 0.1724\n",
            "Epoch 10/100\n",
            "1168/1168 [==============================] - 8s 7ms/step - loss: 4.2071 - accuracy: 0.2068\n",
            "Epoch 11/100\n",
            "1168/1168 [==============================] - 8s 7ms/step - loss: 3.9318 - accuracy: 0.2424\n",
            "Epoch 12/100\n",
            "1168/1168 [==============================] - 7s 6ms/step - loss: 3.6628 - accuracy: 0.2823\n",
            "Epoch 13/100\n",
            "1168/1168 [==============================] - 8s 7ms/step - loss: 3.4145 - accuracy: 0.3244\n",
            "Epoch 14/100\n",
            "1168/1168 [==============================] - 7s 6ms/step - loss: 3.1809 - accuracy: 0.3653\n",
            "Epoch 15/100\n",
            "1168/1168 [==============================] - 8s 7ms/step - loss: 2.9689 - accuracy: 0.4020\n",
            "Epoch 16/100\n",
            "1168/1168 [==============================] - 8s 7ms/step - loss: 2.7749 - accuracy: 0.4374\n",
            "Epoch 17/100\n",
            "1168/1168 [==============================] - 7s 6ms/step - loss: 2.6013 - accuracy: 0.4692\n",
            "Epoch 18/100\n",
            "1168/1168 [==============================] - 9s 7ms/step - loss: 2.4397 - accuracy: 0.4993\n",
            "Epoch 19/100\n",
            "1168/1168 [==============================] - 7s 6ms/step - loss: 2.2932 - accuracy: 0.5286\n",
            "Epoch 20/100\n",
            "1168/1168 [==============================] - 8s 7ms/step - loss: 2.1593 - accuracy: 0.5534\n",
            "Epoch 21/100\n",
            "1168/1168 [==============================] - 7s 6ms/step - loss: 2.0392 - accuracy: 0.5775\n",
            "Epoch 22/100\n",
            "1168/1168 [==============================] - 8s 7ms/step - loss: 1.9238 - accuracy: 0.6014\n",
            "Epoch 23/100\n",
            "1168/1168 [==============================] - 8s 7ms/step - loss: 1.8254 - accuracy: 0.6175\n",
            "Epoch 24/100\n",
            "1168/1168 [==============================] - 7s 6ms/step - loss: 1.7292 - accuracy: 0.6393\n",
            "Epoch 25/100\n",
            "1168/1168 [==============================] - 8s 7ms/step - loss: 1.6468 - accuracy: 0.6539\n",
            "Epoch 26/100\n",
            "1168/1168 [==============================] - 7s 6ms/step - loss: 1.5665 - accuracy: 0.6694\n",
            "Epoch 27/100\n",
            "1168/1168 [==============================] - 8s 7ms/step - loss: 1.4925 - accuracy: 0.6843\n",
            "Epoch 28/100\n",
            "1168/1168 [==============================] - 8s 7ms/step - loss: 1.4300 - accuracy: 0.6944\n",
            "Epoch 29/100\n",
            "1168/1168 [==============================] - 8s 7ms/step - loss: 1.3655 - accuracy: 0.7074\n",
            "Epoch 30/100\n",
            "1168/1168 [==============================] - 8s 7ms/step - loss: 1.3096 - accuracy: 0.7192\n",
            "Epoch 31/100\n",
            "1168/1168 [==============================] - 7s 6ms/step - loss: 1.2619 - accuracy: 0.7283\n",
            "Epoch 32/100\n",
            "1168/1168 [==============================] - 8s 7ms/step - loss: 1.2146 - accuracy: 0.7366\n",
            "Epoch 33/100\n",
            "1168/1168 [==============================] - 7s 6ms/step - loss: 1.1694 - accuracy: 0.7459\n",
            "Epoch 34/100\n",
            "1168/1168 [==============================] - 8s 7ms/step - loss: 1.1298 - accuracy: 0.7541\n",
            "Epoch 35/100\n",
            "1168/1168 [==============================] - 8s 7ms/step - loss: 1.0958 - accuracy: 0.7600\n",
            "Epoch 36/100\n",
            "1168/1168 [==============================] - 7s 6ms/step - loss: 1.0584 - accuracy: 0.7676\n",
            "Epoch 37/100\n",
            "1168/1168 [==============================] - 8s 7ms/step - loss: 1.0307 - accuracy: 0.7722\n",
            "Epoch 38/100\n",
            "1168/1168 [==============================] - 7s 6ms/step - loss: 0.9997 - accuracy: 0.7780\n",
            "Epoch 39/100\n",
            "1168/1168 [==============================] - 8s 7ms/step - loss: 0.9736 - accuracy: 0.7824\n",
            "Epoch 40/100\n",
            "1168/1168 [==============================] - 7s 6ms/step - loss: 0.9497 - accuracy: 0.7849\n",
            "Epoch 41/100\n",
            "1168/1168 [==============================] - 8s 7ms/step - loss: 0.9279 - accuracy: 0.7916\n",
            "Epoch 42/100\n",
            "1168/1168 [==============================] - 8s 7ms/step - loss: 0.9088 - accuracy: 0.7936\n",
            "Epoch 43/100\n",
            "1168/1168 [==============================] - 7s 6ms/step - loss: 0.8911 - accuracy: 0.7952\n",
            "Epoch 44/100\n",
            "1168/1168 [==============================] - 8s 7ms/step - loss: 0.8711 - accuracy: 0.8001\n",
            "Epoch 45/100\n",
            "1168/1168 [==============================] - 7s 6ms/step - loss: 0.8550 - accuracy: 0.8009\n",
            "Epoch 46/100\n",
            "1168/1168 [==============================] - 8s 7ms/step - loss: 0.8412 - accuracy: 0.8047\n",
            "Epoch 47/100\n",
            "1168/1168 [==============================] - 7s 6ms/step - loss: 0.8256 - accuracy: 0.8073\n",
            "Epoch 48/100\n",
            "1168/1168 [==============================] - 8s 7ms/step - loss: 0.8153 - accuracy: 0.8079\n",
            "Epoch 49/100\n",
            "1168/1168 [==============================] - 8s 7ms/step - loss: 0.8018 - accuracy: 0.8099\n",
            "Epoch 50/100\n",
            "1168/1168 [==============================] - 7s 6ms/step - loss: 0.7890 - accuracy: 0.8116\n",
            "Epoch 51/100\n",
            "1168/1168 [==============================] - 8s 7ms/step - loss: 0.7823 - accuracy: 0.8133\n",
            "Epoch 52/100\n",
            "1168/1168 [==============================] - 7s 6ms/step - loss: 0.7710 - accuracy: 0.8150\n",
            "Epoch 53/100\n",
            "1168/1168 [==============================] - 8s 7ms/step - loss: 0.7591 - accuracy: 0.8161\n",
            "Epoch 54/100\n",
            "1168/1168 [==============================] - 7s 6ms/step - loss: 0.7584 - accuracy: 0.8162\n",
            "Epoch 55/100\n",
            "1168/1168 [==============================] - 8s 7ms/step - loss: 0.7495 - accuracy: 0.8179\n",
            "Epoch 56/100\n",
            "1168/1168 [==============================] - 8s 7ms/step - loss: 0.7401 - accuracy: 0.8182\n",
            "Epoch 57/100\n",
            "1168/1168 [==============================] - 7s 6ms/step - loss: 0.7314 - accuracy: 0.8202\n",
            "Epoch 58/100\n",
            "1168/1168 [==============================] - 8s 7ms/step - loss: 0.7260 - accuracy: 0.8211\n",
            "Epoch 59/100\n",
            "1168/1168 [==============================] - 7s 6ms/step - loss: 0.7208 - accuracy: 0.8221\n",
            "Epoch 60/100\n",
            "1168/1168 [==============================] - 8s 7ms/step - loss: 0.7190 - accuracy: 0.8216\n",
            "Epoch 61/100\n",
            "1168/1168 [==============================] - 7s 6ms/step - loss: 0.7118 - accuracy: 0.8212\n",
            "Epoch 62/100\n",
            "1168/1168 [==============================] - 8s 7ms/step - loss: 0.7114 - accuracy: 0.8222\n",
            "Epoch 63/100\n",
            "1168/1168 [==============================] - 8s 7ms/step - loss: 0.6978 - accuracy: 0.8241\n",
            "Epoch 64/100\n",
            "1168/1168 [==============================] - 7s 6ms/step - loss: 0.6937 - accuracy: 0.8244\n",
            "Epoch 65/100\n",
            "1168/1168 [==============================] - 8s 7ms/step - loss: 0.6930 - accuracy: 0.8258\n",
            "Epoch 66/100\n",
            "1168/1168 [==============================] - 7s 6ms/step - loss: 0.6888 - accuracy: 0.8249\n",
            "Epoch 67/100\n",
            "1168/1168 [==============================] - 8s 7ms/step - loss: 0.6849 - accuracy: 0.8265\n",
            "Epoch 68/100\n",
            "1168/1168 [==============================] - 8s 7ms/step - loss: 0.6837 - accuracy: 0.8262\n",
            "Epoch 69/100\n",
            "1168/1168 [==============================] - 8s 7ms/step - loss: 0.6781 - accuracy: 0.8276\n",
            "Epoch 70/100\n",
            "1168/1168 [==============================] - 8s 7ms/step - loss: 0.6737 - accuracy: 0.8264\n",
            "Epoch 71/100\n",
            "1168/1168 [==============================] - 7s 6ms/step - loss: 0.6733 - accuracy: 0.8273\n",
            "Epoch 72/100\n",
            "1168/1168 [==============================] - 8s 7ms/step - loss: 0.6688 - accuracy: 0.8291\n",
            "Epoch 73/100\n",
            "1168/1168 [==============================] - 7s 6ms/step - loss: 0.6658 - accuracy: 0.8283\n",
            "Epoch 74/100\n",
            "1168/1168 [==============================] - 8s 7ms/step - loss: 0.6645 - accuracy: 0.8284\n",
            "Epoch 75/100\n",
            "1168/1168 [==============================] - 8s 7ms/step - loss: 0.6646 - accuracy: 0.8285\n",
            "Epoch 76/100\n",
            "1168/1168 [==============================] - 8s 6ms/step - loss: 0.6564 - accuracy: 0.8303\n",
            "Epoch 77/100\n",
            "1168/1168 [==============================] - 8s 7ms/step - loss: 0.6562 - accuracy: 0.8300\n",
            "Epoch 78/100\n",
            "1168/1168 [==============================] - 7s 6ms/step - loss: 0.6602 - accuracy: 0.8280\n",
            "Epoch 79/100\n",
            "1168/1168 [==============================] - 8s 7ms/step - loss: 0.6534 - accuracy: 0.8302\n",
            "Epoch 80/100\n",
            "1168/1168 [==============================] - 7s 6ms/step - loss: 0.6466 - accuracy: 0.8301\n",
            "Epoch 81/100\n",
            "1168/1168 [==============================] - 8s 7ms/step - loss: 0.6495 - accuracy: 0.8290\n",
            "Epoch 82/100\n",
            "1168/1168 [==============================] - 8s 7ms/step - loss: 0.6580 - accuracy: 0.8286\n",
            "Epoch 83/100\n",
            "1168/1168 [==============================] - 7s 6ms/step - loss: 0.6487 - accuracy: 0.8290\n",
            "Epoch 84/100\n",
            "1168/1168 [==============================] - 8s 7ms/step - loss: 0.6407 - accuracy: 0.8308\n",
            "Epoch 85/100\n",
            "1168/1168 [==============================] - 7s 6ms/step - loss: 0.6418 - accuracy: 0.8308\n",
            "Epoch 86/100\n",
            "1168/1168 [==============================] - 8s 7ms/step - loss: 0.6411 - accuracy: 0.8306\n",
            "Epoch 87/100\n",
            "1168/1168 [==============================] - 8s 7ms/step - loss: 0.6400 - accuracy: 0.8308\n",
            "Epoch 88/100\n",
            "1168/1168 [==============================] - 8s 6ms/step - loss: 0.6458 - accuracy: 0.8298\n",
            "Epoch 89/100\n",
            "1168/1168 [==============================] - 8s 7ms/step - loss: 0.6397 - accuracy: 0.8313\n",
            "Epoch 90/100\n",
            "1168/1168 [==============================] - 7s 6ms/step - loss: 0.6338 - accuracy: 0.8313\n",
            "Epoch 91/100\n",
            "1168/1168 [==============================] - 8s 7ms/step - loss: 0.6349 - accuracy: 0.8325\n",
            "Epoch 92/100\n",
            "1168/1168 [==============================] - 7s 6ms/step - loss: 0.6367 - accuracy: 0.8316\n",
            "Epoch 93/100\n",
            "1168/1168 [==============================] - 8s 7ms/step - loss: 0.6317 - accuracy: 0.8323\n",
            "Epoch 94/100\n",
            "1168/1168 [==============================] - 8s 7ms/step - loss: 0.6309 - accuracy: 0.8325\n",
            "Epoch 95/100\n",
            "1168/1168 [==============================] - 7s 6ms/step - loss: 0.6338 - accuracy: 0.8318\n",
            "Epoch 96/100\n",
            "1168/1168 [==============================] - 8s 7ms/step - loss: 0.6349 - accuracy: 0.8304\n",
            "Epoch 97/100\n",
            "1168/1168 [==============================] - 7s 6ms/step - loss: 0.6281 - accuracy: 0.8320\n",
            "Epoch 98/100\n",
            "1168/1168 [==============================] - 8s 7ms/step - loss: 0.6230 - accuracy: 0.8331\n",
            "Epoch 99/100\n",
            "1168/1168 [==============================] - 7s 6ms/step - loss: 0.6241 - accuracy: 0.8329\n",
            "Epoch 100/100\n",
            "1168/1168 [==============================] - 8s 7ms/step - loss: 0.6239 - accuracy: 0.8321\n"
          ]
        }
      ]
    },
    {
      "cell_type": "markdown",
      "source": [
        "### Predictions"
      ],
      "metadata": {
        "id": "24F0333ci1gt"
      }
    },
    {
      "cell_type": "code",
      "source": [
        "def generate_poem(start_text, words_threshold):\n",
        "  for j in range(words_threshold):\n",
        "    token_list = tokenizer.texts_to_sequences([start_text])[0]\n",
        "    token_list = pad_sequences([token_list], maxlen=max_len-1, padding='pre')\n",
        "    prediction = model.predict(token_list, verbose=0)\n",
        "    pred_class = np.argmax(prediction)\n",
        "\n",
        "    out_text = \"\"\n",
        "    for word, indx in tokenizer.word_index.items():\n",
        "      if indx == pred_class:\n",
        "        out_text = word\n",
        "        break\n",
        "    start_text += \" \" + out_text\n",
        "  return start_text"
      ],
      "metadata": {
        "id": "uwT6aQEuXw7t"
      },
      "execution_count": null,
      "outputs": []
    },
    {
      "cell_type": "code",
      "source": [
        "print(generate_poem('World goes on', 15))"
      ],
      "metadata": {
        "colab": {
          "base_uri": "https://localhost:8080/"
        },
        "id": "1CLxXd6Nk_-c",
        "outputId": "1c5a043f-2ad9-4186-ddfe-adfb6356beab"
      },
      "execution_count": null,
      "outputs": [
        {
          "output_type": "stream",
          "name": "stdout",
          "text": [
            "World goes on keeping way to be fault his first ” years burn burn burn hope ’ ’\n"
          ]
        }
      ]
    },
    {
      "cell_type": "code",
      "source": [],
      "metadata": {
        "id": "8E7T-80dlJki"
      },
      "execution_count": null,
      "outputs": []
    }
  ]
}